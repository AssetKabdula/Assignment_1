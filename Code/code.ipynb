{
 "cells": [
  {
   "cell_type": "code",
   "execution_count": 3,
   "metadata": {},
   "outputs": [],
   "source": [
    "import pandas as pd"
   ]
  },
  {
   "cell_type": "code",
   "execution_count": 4,
   "metadata": {},
   "outputs": [],
   "source": [
    "# Load dataset\n",
    "file_path = \"../data/WVS_subset.csv\"\n",
    "df = pd.read_csv(file_path)"
   ]
  },
  {
   "cell_type": "code",
   "execution_count": 5,
   "metadata": {},
   "outputs": [],
   "source": [
    "# Select relevant columns\n",
    "selected_vars = [\"Q46\", \"Q50\", \"Q49\", \"Q47\", \"Q48\"]\n",
    "df_selected = df[selected_vars]"
   ]
  },
  {
   "cell_type": "code",
   "execution_count": 6,
   "metadata": {},
   "outputs": [
    {
     "name": "stdout",
     "output_type": "stream",
     "text": [
      "                Q46           Q50           Q49           Q47           Q48\n",
      "count  97220.000000  97220.000000  97220.000000  97220.000000  97220.000000\n",
      "mean       1.827721      6.155832      7.012312      2.176373      7.129819\n",
      "std        0.783155      2.510540      2.336692      0.916183      2.411960\n",
      "min       -5.000000     -5.000000     -5.000000     -5.000000     -5.000000\n",
      "25%        1.000000      5.000000      6.000000      2.000000      6.000000\n",
      "50%        2.000000      6.000000      7.000000      2.000000      7.000000\n",
      "75%        2.000000      8.000000      9.000000      3.000000      9.000000\n",
      "max        4.000000     10.000000     10.000000      5.000000     10.000000\n"
     ]
    }
   ],
   "source": [
    "# Compute descriptive statistics\n",
    "desc_stats = df_selected.describe()\n",
    "\n",
    "# Print results\n",
    "print(desc_stats)\n"
   ]
  }
 ],
 "metadata": {
  "kernelspec": {
   "display_name": "base",
   "language": "python",
   "name": "python3"
  },
  "language_info": {
   "codemirror_mode": {
    "name": "ipython",
    "version": 3
   },
   "file_extension": ".py",
   "mimetype": "text/x-python",
   "name": "python",
   "nbconvert_exporter": "python",
   "pygments_lexer": "ipython3",
   "version": "3.12.4"
  }
 },
 "nbformat": 4,
 "nbformat_minor": 2
}
